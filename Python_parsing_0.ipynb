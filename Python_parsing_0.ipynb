{
  "nbformat": 4,
  "nbformat_minor": 0,
  "metadata": {
    "colab": {
      "provenance": [],
      "collapsed_sections": [],
      "authorship_tag": "ABX9TyPmZznSL5fXRX7qDQ1MOPeP"
    },
    "kernelspec": {
      "name": "python3",
      "display_name": "Python 3"
    },
    "language_info": {
      "name": "python"
    }
  },
  "cells": [
    {
      "cell_type": "code",
      "execution_count": null,
      "metadata": {
        "id": "FSNGiQ1mBfKV",
        "colab": {
          "base_uri": "https://localhost:8080/"
        },
        "outputId": "994a5283-93a1-41a3-b55e-4ea33bacdcc3"
      },
      "outputs": [
        {
          "output_type": "stream",
          "name": "stdout",
          "text": [
            "11\n",
            "\n",
            "3\n",
            "\n",
            "4\n",
            "\n"
          ]
        }
      ],
      "source": [
        "from os import write\n",
        "\n",
        "#class record: name(setter+getter), age(setter+getter), id (getter)\n",
        "class Record:\n",
        "  def __init__(self, uniqueId):\n",
        "         self._uniqueId = uniqueId\n",
        "         self._name:str = \"No name\"\n",
        "         self._age:int = 0\n",
        "\n",
        "  def __str__ (self):\n",
        "    return f\"name:{self._name}, age:{self._age}, uniqueId:{self._uniqueId}\"\n",
        "\n",
        "  @property\n",
        "  def name(self)->str:\n",
        "    return self._name\n",
        "  \n",
        "  def name(self, name):\n",
        "    if (name != \"\"):\n",
        "        self._name = name\n",
        "    return 0\n",
        "    \n",
        "\n",
        "  @property  \n",
        "  def age(self)->int:\n",
        "    return self._age\n",
        "\n",
        "  @age.setter  \n",
        "  def age(self, age):\n",
        "        self._age = age\n",
        "  \n",
        "  @property\n",
        "  def getId(self):\n",
        "    return self._uniqueId\n",
        "\n",
        "def read_records(fileName:str)->dict:\n",
        "  records = {}\n",
        "  with open(fileName, 'rt') as file:\n",
        "    for line in file:\n",
        "      line = line.split(',')\n",
        "      print(line[2])\n",
        "      if (len(line) != 3):\n",
        "        continue\n",
        "      try:\n",
        "        id_=int(line[0])\n",
        "      except:\n",
        "        continue\n",
        "      if id_ in records:\n",
        "        continue \n",
        "      try:\n",
        "        age_=int(line[2])\n",
        "      except:\n",
        "        continue\n",
        "      record = Record(id_)\n",
        "      record._name = line[0]\n",
        "      record._age = age_\n",
        "      records[id_] = record\n",
        "      \n",
        "  return records\n",
        "\n",
        "class RecordList:\n",
        "    def __init__(self):\n",
        "        self.__records:dict = {}\n",
        "\n",
        "    def __str__(self):\n",
        "      return \"\\n\".join(str(self.records[key]) for key in self.records)\n",
        "    \n",
        "    @property \n",
        "    def records(self) -> dict:\n",
        "        return self.__records\n",
        "\n",
        "    def sortByName(self):\n",
        "        self.__records = dict(sorted(self.__records.items(), key=lambda x: x[1].name))\n",
        "\n",
        "    def sortByAge(self):\n",
        "        self.__records = dict(sorted(self.__records.items(), key=lambda x: x[1].age))\n",
        "\n",
        "    def sortById(self):\n",
        "        self.__records = dict(sorted(self.__records.items(), key=lambda x: x[1].uniqueId))\n",
        "\n",
        "    def read(self, filename):\n",
        "        self.__records = read_records(filename)\n",
        "    \n",
        "    def write(self, filename: str):\n",
        "          with open(filename, \"wt\") as f:\n",
        "            print(str(self), file=f)\n",
        "\n",
        "\n",
        "def write_records(fileName, records:dict):\n",
        "  with open(fileName, \"w\") as f:\n",
        "    print(\"\\n\".join(str(records[key]) for key in records), file=f) #Generator\n",
        "\n",
        "recordsList = RecordList()\n",
        "recordsList.read(\"/content/sample_data/text.txt\")\n",
        "recordsList.sortByAge()\n",
        "recordsList.write(\"/content/sample_data/text1.txt\")\n"
      ]
    },
    {
      "cell_type": "markdown",
      "source": [],
      "metadata": {
        "id": "GJ9gwC-s494j"
      }
    },
    {
      "cell_type": "code",
      "source": [],
      "metadata": {
        "id": "z-_9d2RWx6rl"
      },
      "execution_count": null,
      "outputs": []
    },
    {
      "cell_type": "code",
      "source": [],
      "metadata": {
        "id": "DJKEq_f1x1km"
      },
      "execution_count": null,
      "outputs": []
    },
    {
      "cell_type": "code",
      "source": [],
      "metadata": {
        "id": "S8FqjyOOrc72"
      },
      "execution_count": null,
      "outputs": []
    }
  ]
}